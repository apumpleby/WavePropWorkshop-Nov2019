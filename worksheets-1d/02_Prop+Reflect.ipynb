{
 "cells": [
  {
   "cell_type": "markdown",
   "metadata": {},
   "source": [
    "# Numerical simulation of the wave equation in 1D using Finite Difference"
   ]
  },
  {
   "cell_type": "markdown",
   "metadata": {},
   "source": [
    "## Import libraries"
   ]
  },
  {
   "cell_type": "code",
   "execution_count": null,
   "metadata": {},
   "outputs": [],
   "source": [
    "%matplotlib inline\n",
    "import numpy as np\n",
    "import matplotlib.pyplot as plt\n",
    "import matplotlib.animation as anim\n",
    "from IPython.display import HTML\n",
    "import sys"
   ]
  },
  {
   "cell_type": "markdown",
   "metadata": {},
   "source": [
    "----\n",
    "\n",
    "## Create domain model properties (i.e. speed of waves), and discretisation grid"
   ]
  },
  {
   "cell_type": "code",
   "execution_count": null,
   "metadata": {},
   "outputs": [],
   "source": [
    "nx = 801  # 801 sample-points along the x-axis\n",
    "\n",
    "# start with homogeneous model - same wave-speed everywhere.\n",
    "c = np.full(nx,1500.0)  # Note: 1500m/s is typical acoustic velocity of water\n",
    "\n",
    "# a faster section, halfway across model, to show reflection of waves when crossing sharp interface\n",
    "c[400:] = 2500.0  # Note: 2500m/s is fairly typical acoustic velocity of sedimentary rock"
   ]
  },
  {
   "cell_type": "code",
   "execution_count": null,
   "metadata": {},
   "outputs": [],
   "source": [
    "length = 6000.0  # assign a length to the model in metres\n",
    "\n",
    "dx = length/(nx-1)  # calculate the spatial increment between model parameters\n",
    "\n",
    "print('Domain is %.1fm (%d sample-points)' % (length,nx))\n",
    "print('Sample-point spacing (dx) is %.5fm' % (dx))"
   ]
  },
  {
   "cell_type": "code",
   "execution_count": null,
   "metadata": {},
   "outputs": [],
   "source": [
    "plt.figure(figsize=(10,6))\n",
    "plt.plot(c) # plotting the velocity model\n",
    "plt.xlabel('x gridpoints')\n",
    "plt.ylabel('speed')\n",
    "plt.title('Velocity Model (m/s)')\n",
    "plt.show()"
   ]
  },
  {
   "cell_type": "markdown",
   "metadata": {},
   "source": [
    "----\n",
    "## Modelling constraints\n",
    "#### CFL stability condition should be satisfied – the 'Courant number'.\n",
    "\n",
    "The dimensionless Courant number, $C$, gives a measure of how far a signal will travel between grid-points within one time-step.\n",
    "(Hence why I will very often refer to it as 'the crossing factor'.)\n",
    "\n",
    "The crossing factor is $c$.$\\delta t$/$\\delta x$ for speed $c$, and we want the maximum value of this within the whole domain to satisfy some constraint that depends upon the finite-difference stencil(s) in use when modelling.\n",
    "\n",
    "i.e. we want:$\\quad \\text{max}(c)$.$\\delta t/\\delta x <= C_{max}$, where $\\ C_{max}$ depends on the discretisation.\n",
    "\n",
    "We can turn this around to find the maximum time-step for our model and grid-spacing, given $C_{max}$ for our discretisation:\n",
    "\n",
    "$$\\delta t_{best} = \\frac{C_{max}\\ \\delta x}{\\text{max}(c)}$$\n",
    "\n",
    "#### This simple stencil (2nd order), with 2nd order time-stepping, for the 1d wave equation, allows max crossing factor to be up to 1.0\n",
    "(i.e. can only cross up to 100% of a cell in one time-step – but we'll use 80% below.)"
   ]
  },
  {
   "cell_type": "code",
   "execution_count": null,
   "metadata": {},
   "outputs": [],
   "source": [
    "C = 0.8  # set the dimensionless max Courant number that we want to use to work out time-step below"
   ]
  },
  {
   "cell_type": "code",
   "execution_count": null,
   "metadata": {},
   "outputs": [],
   "source": [
    "time = 5.0  # desired length of the simulation in seconds\n",
    "dt = (C*dx)/c.max()  # define the best time-step by using the max Courant number\n",
    "nt = int(time/dt+0.9999)  # find how many time-steps are needed to (very very nearly) cover that time\n",
    "time = nt*dt  # turn that back into exact time for this number of steps\n",
    "\n",
    "print('Time-step = %.5fs  Number of steps = %d  (Total time being modelled: %.5fs)' % (dt,nt,dt*nt))\n",
    "\n",
    "sx = 150  # position for source point - at 151st sample-point\n"
   ]
  },
  {
   "cell_type": "markdown",
   "metadata": {},
   "source": [
    "### Create source function based on sine-squared curve..."
   ]
  },
  {
   "cell_type": "code",
   "execution_count": null,
   "metadata": {},
   "outputs": [],
   "source": [
    "def create_sinesq_src(amp,ns):  # ns is number of steps for our source function\n",
    "\n",
    "    src = np.zeros(ns)  # create array for source function\n",
    "\n",
    "    # create source function with sine-squared curve (which starts off zero, rises to one, then back to zero)\n",
    "\n",
    "    for i in range(ns):\n",
    "        src[i] = amp*np.sin((0.5+i)*np.pi/ns)**2\n",
    "\n",
    "    print('Start & end values are: %.6f %.6f' % (src[0],src[-1]))\n",
    "    return src"
   ]
  },
  {
   "cell_type": "code",
   "execution_count": null,
   "metadata": {},
   "outputs": [],
   "source": [
    "def plot_source(src):\n",
    "    plt.figure(figsize=(10,6))\n",
    "    plt.plot(src) # plot source function\n",
    "    plt.xlabel('timesteps')\n",
    "    plt.ylabel('amplitude')\n",
    "    plt.title('Source function')\n",
    "    plt.show()"
   ]
  },
  {
   "cell_type": "code",
   "execution_count": null,
   "metadata": {},
   "outputs": [],
   "source": [
    "# want to locate the source at some point in the domain, and give it an amplitude\n",
    "\n",
    "ns = 40   # make source function last for 40 time-steps (will also use this later)\n",
    "src = create_sinesq_src(1.0,ns)\n",
    "\n",
    "plot_source(src)"
   ]
  },
  {
   "cell_type": "markdown",
   "metadata": {},
   "source": [
    "### Check that the maximum frequency in the source function can propagate reliably"
   ]
  },
  {
   "cell_type": "markdown",
   "metadata": {},
   "source": [
    "For a simple second-order finite-difference, the minimum wavelength of a signal that we can propagate reliably over a reasonable distance is about 10 grid-points."
   ]
  },
  {
   "cell_type": "code",
   "execution_count": null,
   "metadata": {},
   "outputs": [],
   "source": [
    "# minimum of 10 gridpoints per wavelength for reasonably accurate propagation (i.e. minimal numerical dispersion):\n",
    "min_cells_per_wl = 10.0\n",
    "\n",
    "# calculate the max frequency that can be modelled without numerical dispersion:\n",
    "max_freq = c.min()/(min_cells_per_wl*dx)\n",
    "\n",
    "print('Maximum reliable propagation frequency is about %.1fHz' % max_freq)"
   ]
  },
  {
   "cell_type": "markdown",
   "metadata": {},
   "source": [
    "#### Want to avoid causing too much dispersion by keeping maximum significant frequency within this limit..."
   ]
  },
  {
   "cell_type": "code",
   "execution_count": null,
   "metadata": {
    "scrolled": false
   },
   "outputs": [],
   "source": [
    "def plot_ampl_spect(src,ns,nt,dt):\n",
    "    # plot amplitude spectrum of source function\n",
    "    plt.figure(figsize=(10,6))\n",
    "    plt.magnitude_spectrum(np.append(src,np.zeros(nt-ns)), Fs=1/dt)  # note padding to nt points\n",
    "    plt.title('Amplitude Spectrum')\n",
    "    plt.xlim(0,35)\n",
    "    plt.xlabel('Frequency / Hz')\n",
    "    plt.show()"
   ]
  },
  {
   "cell_type": "code",
   "execution_count": null,
   "metadata": {},
   "outputs": [],
   "source": [
    "plot_ampl_spect(src,ns,nt,dt)"
   ]
  },
  {
   "cell_type": "markdown",
   "metadata": {},
   "source": [
    "----\n",
    "# Simulation"
   ]
  },
  {
   "cell_type": "code",
   "execution_count": null,
   "metadata": {},
   "outputs": [],
   "source": [
    "# prepare an array to store wavefield snapshots for plotting\n",
    "snapshot_gap = 5 # set sampling rate used to store wavefield (every 10 timesteps)\n",
    "wavefield = np.zeros((int(nt/snapshot_gap), nx)) # array to store wavefields every 10 timesteps\n",
    "print('Storing %d wavefields (every %dth out of %d)' % (wavefield.shape[0],snapshot_gap,nt))"
   ]
  },
  {
   "cell_type": "code",
   "execution_count": null,
   "metadata": {},
   "outputs": [],
   "source": [
    "# Initialise arrays for wavefields\n",
    "u = np.zeros(nx) # current wavefield\n",
    "u_prv = np.zeros(nx) # previous wavefield, at t-1\n",
    "u_nxt = np.zeros(nx) # next wavefield, at t+1\n",
    "\n",
    "# a useful variable – shorthand for terms that appear together in equations\n",
    "dtdx2 = (dt*dt)/(dx*dx)"
   ]
  },
  {
   "cell_type": "code",
   "execution_count": null,
   "metadata": {},
   "outputs": [],
   "source": [
    "def propagate():\n",
    "\n",
    "    # make sure wavefields start off zero before propagating (source gets included during steps)\n",
    "    u[:] = 0.0\n",
    "    u_prv[:] = 0.0\n",
    "\n",
    "    u[sx] = src[0]  # put first source entry into current wavefield\n",
    "\n",
    "    # begin time-stepping loop...\n",
    "\n",
    "    for i in range(nt):\n",
    "\n",
    "        if i%20==0:  # show progress every 20 steps\n",
    "            sys.stdout.write('Done step %d of %d\\r' % (i+1,nt))\n",
    "\n",
    "        # find new wavefield, u_new, throughout domain (apart from edges)\n",
    "        # NOTE: no vectorisation, so it's slow!\n",
    "        for ix in range(1,nx-1):\n",
    "            u_nxt[ix] = (c[ix]**2) * dtdx2 * (u[ix-1]-2*u[ix]+u[ix+1]) + 2*u[ix] - u_prv[ix]\n",
    "\n",
    "        # put in source function as if it's a 'forced' condition (rather than injecting by adding),\n",
    "        # up until the source function runs out of its steps\n",
    "        if i+1<ns:\n",
    "            u_nxt[sx] = src[i+1]\n",
    "    \n",
    "    \n",
    "        # FILL IN CODE HERE TO RECORD VALUES AT DETECTOR POINTS, using arrays rpos & r (see task 2)\n",
    "    \n",
    "    \n",
    "    \n",
    "        # cycle wavefields for next time-step\n",
    "        u_prv[:] = u[:]\n",
    "        u[:] = u_nxt[:]\n",
    "    \n",
    "        # store the current wavefield u on every Nth step (where N is snapshot_gap, defined earlier)\n",
    "        if (i+1)%snapshot_gap == 0:\n",
    "            wavefield[int((i+1)/snapshot_gap-1),:] = u[:]\n",
    "\n",
    "    print('Finished all %d steps' % (nt))"
   ]
  },
  {
   "cell_type": "code",
   "execution_count": null,
   "metadata": {},
   "outputs": [],
   "source": [
    "propagate()"
   ]
  },
  {
   "cell_type": "markdown",
   "metadata": {},
   "source": [
    "## Plot wavefield time snapshots"
   ]
  },
  {
   "cell_type": "code",
   "execution_count": null,
   "metadata": {},
   "outputs": [],
   "source": [
    "def plot_snapshot(plot_time):\n",
    "    plt.figure(figsize=(15,5))\n",
    "    plt.plot(wavefield[int(plot_time/(dt*snapshot_gap)),:])\n",
    "    plt.title('Wavefield at about %.2fs' % (plot_time))\n",
    "    plt.xlabel('x gridpoints')\n",
    "    plt.ylabel('amplitude')\n",
    "    plt.show()"
   ]
  },
  {
   "cell_type": "code",
   "execution_count": null,
   "metadata": {},
   "outputs": [],
   "source": [
    "plot_snapshot(1.5)\n",
    "plot_snapshot(4.2)"
   ]
  },
  {
   "cell_type": "markdown",
   "metadata": {},
   "source": [
    "## Show space-time plot for whole wavefield"
   ]
  },
  {
   "cell_type": "code",
   "execution_count": null,
   "metadata": {},
   "outputs": [],
   "source": [
    "def spacetime_plot():\n",
    "    fig = plt.figure(figsize=(10,8))\n",
    "    plt.imshow(wavefield, cmap='RdBu', interpolation='bilinear', aspect='auto',\n",
    "               vmin=-1, vmax=1,       # set the bounds for the colour data\n",
    "               extent=(0,length,time,0))  # set the bounds for the axes\n",
    "    plt.title('Wavefield propagation with time')\n",
    "    plt.xlabel('x-position / m')\n",
    "    plt.ylabel('Time / s')\n",
    "    plt.show()\n"
   ]
  },
  {
   "cell_type": "code",
   "execution_count": null,
   "metadata": {},
   "outputs": [],
   "source": [
    "spacetime_plot()"
   ]
  },
  {
   "cell_type": "markdown",
   "metadata": {},
   "source": [
    "## Make a movie! "
   ]
  },
  {
   "cell_type": "code",
   "execution_count": null,
   "metadata": {},
   "outputs": [],
   "source": [
    "def create_animation():\n",
    "\n",
    "    fig, ax = plt.subplots(figsize=(15,6))\n",
    "\n",
    "    x = np.arange(0, wavefield.shape[1], 1)\n",
    "    line, = ax.plot(x,wavefield[0])\n",
    "\n",
    "    plt.title('Wavefield')\n",
    "    plt.xlabel('x gridpoint')\n",
    "    plt.ylabel('amplitude')\n",
    "    plt.ylim(-1.3,1.3)\n",
    "\n",
    "    def frame(i):\n",
    "        line.set_ydata(wavefield[i])\n",
    "        return line,\n",
    "\n",
    "    print('Finished plots for frames, building animation...')\n",
    "\n",
    "    ani = anim.FuncAnimation(fig, frame, interval=50, save_count=wavefield.shape[0])\n",
    "\n",
    "    plt.close(fig)  # prevent final image from showing up inline below\n",
    "    return ani\n"
   ]
  },
  {
   "cell_type": "code",
   "execution_count": null,
   "metadata": {},
   "outputs": [],
   "source": [
    "ani = create_animation()\n",
    "print('Preparing HTML (takes a little while...)')\n",
    "HTML(ani.to_jshtml())"
   ]
  },
  {
   "cell_type": "markdown",
   "metadata": {},
   "source": [
    "----\n",
    "## Create source function based on Ricker wavelet with peak frequency of 6Hz\n",
    "\n",
    "The Ricker wavelet used here is a function of time that's defined from the second derivate of a Gaussian function (which is $G(t)=\\text{e}^{-a^2 t^2}$).\n",
    "\n",
    "–It's also known as the Mexican hat wavelet, due to its shape when plotted as a function of two variables.\n",
    "\n",
    "It can be written so it is symmetric about time zero, with maximum at that time, ultimately decaying towards zero as $t$$\\rightarrow$$±\\infty$. However, we will shift it in time so that it starts near zero at our time zero.\n",
    "\n",
    "After differentiating above Gaussian, $G(t)$, twice, flipping, then scaling (and before shifting in time), we get: $\\quad R(t) = (1-2a^2 t^2)\\ \\text{e}^{-a^2 t^2}$\n",
    "\n",
    "The peak frequency of the Ricker wavelet is at $f$=$a/\\pi$.\n",
    "\n",
    "The length of the wavelet, in time, before it decays close enough to zero for our purposes, is about $\\frac{2.1}{f}$ (i.e. about $\\frac{1.05}{f}$ seconds each side of the wavelet's central peak)."
   ]
  },
  {
   "cell_type": "markdown",
   "metadata": {},
   "source": [
    ">**Task 1:**\n",
    ">\n",
    ">**Fill in code below to fill array `src` with a source function based on Ricker wavelet (see equations above)**"
   ]
  },
  {
   "cell_type": "code",
   "execution_count": null,
   "metadata": {},
   "outputs": [],
   "source": [
    "def ricker_source(freq,dt,ampl):\n",
    "    ts = 2.1/freq  # the length in time is related to frequency\n",
    "    ns = int(ts/dt+0.9999)  # figure out how many time-steps are needed to cover that time\n",
    "    src = np.zeros(ns)  # create array with new length, for wavelet\n",
    "    print('Length of source is %d steps (%.5f secs, was %.5fs)' % (ns,ns*dt,ts))\n",
    "    ts = ns*dt  # and now turn that back into a time that's exactly the required number of steps\n",
    "    a2 = (freq*np.pi)**2  # a squared (see equation above)\n",
    "    t0 = ts/2 - dt/2  # midpoint time of wavelet\n",
    "\n",
    "\n",
    "    # FILL IN CODE HERE TO CREATE A RICKER WAVELET SOURCE FUNCTION (see equation above)...\n",
    "    # Its mid-point should be at time t0, which comes from code lines above\n",
    "\n",
    "\n",
    "\n",
    "    print('Endpoint values are: %.6f %.6f' % (src[0],src[-1]))\n",
    "    return src,ns"
   ]
  },
  {
   "cell_type": "code",
   "execution_count": null,
   "metadata": {},
   "outputs": [],
   "source": [
    "src,ns = ricker_source(6.0,dt,1.0)  # want Ricker wavelet to have peak frequency of 6Hz\n",
    "plot_source(src)"
   ]
  },
  {
   "cell_type": "markdown",
   "metadata": {},
   "source": [
    "#### Check that the maximum frequency in the RIcker source function can propagate reliably...\n",
    "Also note that the frequency spectrum shows the peak frequency at 6Hz, just as we wanted above."
   ]
  },
  {
   "cell_type": "code",
   "execution_count": null,
   "metadata": {},
   "outputs": [],
   "source": [
    "plot_ampl_spect(src,ns,nt,dt)\n",
    "print('Maximum reliable propagation frequency is about %.1fHz' % max_freq)"
   ]
  },
  {
   "cell_type": "markdown",
   "metadata": {},
   "source": [
    "## Receiver points within domain\n",
    "–To detect what crosses a few particular points of the domain over time\n",
    "\n",
    ">**Task 2:**\n",
    ">\n",
    ">**Create an array named `rpos` which will contain the positions of the detector points.**\n",
    ">\n",
    ">**Place detectors at three sample-point positions: 70, 100 & 640.**\n",
    ">\n",
    ">**Create a 2d array named `r` which will be used to record the wavefield at each detector and each time-step.**  \n",
    "(The first dimension should be the same as number of detector points, second should be number of time-steps.)\n",
    ">\n",
    ">**Go to the time-stepping propagation loop again, and fill in code (where indicated) to place the values of the current wavefield into the appropriate elements of the detector array `r` (based on the gridpoint positions given in array `rpos`)**\n",
    ">\n"
   ]
  },
  {
   "cell_type": "code",
   "execution_count": null,
   "metadata": {},
   "outputs": [],
   "source": [
    "# FILL IN CODE HERE TO INITIALISE ARRAYS rpos & r...\n",
    "\n",
    "\n"
   ]
  },
  {
   "cell_type": "code",
   "execution_count": null,
   "metadata": {},
   "outputs": [],
   "source": [
    "propagate()"
   ]
  },
  {
   "cell_type": "code",
   "execution_count": null,
   "metadata": {},
   "outputs": [],
   "source": [
    "# plot a couple of snapshots\n",
    "plot_snapshot(1.5)\n",
    "plot_snapshot(4.2)"
   ]
  },
  {
   "cell_type": "markdown",
   "metadata": {},
   "source": [
    "### Can now plot data at receivers (detector points)..."
   ]
  },
  {
   "cell_type": "code",
   "execution_count": null,
   "metadata": {},
   "outputs": [],
   "source": [
    "def plot_at_receiver(i):\n",
    "    plt.figure(figsize=(15,5))\n",
    "    plt.plot(r[i])\n",
    "    plt.title('Data for receiver at grid-point %d' % (rpos[i]))\n",
    "    plt.ylabel('Amplitude')\n",
    "    plt.xlabel('Time-steps')\n",
    "    plt.show()"
   ]
  },
  {
   "cell_type": "code",
   "execution_count": null,
   "metadata": {},
   "outputs": [],
   "source": [
    "for i in range(r.shape[0]):\n",
    "    plot_at_receiver(i)"
   ]
  },
  {
   "cell_type": "code",
   "execution_count": null,
   "metadata": {},
   "outputs": [],
   "source": [
    "spacetime_plot()"
   ]
  },
  {
   "cell_type": "code",
   "execution_count": null,
   "metadata": {},
   "outputs": [],
   "source": [
    "ani = create_animation()\n",
    "print('Preparing HTML (takes a little while...)')\n",
    "HTML(ani.to_jshtml())"
   ]
  },
  {
   "cell_type": "code",
   "execution_count": null,
   "metadata": {},
   "outputs": [],
   "source": []
  }
 ],
 "metadata": {
  "kernelspec": {
   "display_name": "Python 3",
   "language": "python",
   "name": "python3"
  },
  "language_info": {
   "codemirror_mode": {
    "name": "ipython",
    "version": 3
   },
   "file_extension": ".py",
   "mimetype": "text/x-python",
   "name": "python",
   "nbconvert_exporter": "python",
   "pygments_lexer": "ipython3",
   "version": "3.5.6"
  }
 },
 "nbformat": 4,
 "nbformat_minor": 2
}
