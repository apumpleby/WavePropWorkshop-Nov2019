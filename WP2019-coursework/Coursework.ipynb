{
 "cells": [
  {
   "cell_type": "markdown",
   "metadata": {},
   "source": [
    "# ACSE-2 Coursework for Wave Propagation, November 2019"
   ]
  },
  {
   "cell_type": "markdown",
   "metadata": {},
   "source": [
    "  \n",
    "\n",
    "  "
   ]
  },
  {
   "cell_type": "markdown",
   "metadata": {},
   "source": [
    "This Jupyter notebook contains several tasks which require you to write code, as well as some explanations, into some of the coding cells.  \n",
    "\n",
    "–Be sure to read the tasks carefully!\n",
    "\n",
    "It also contains several coding cells that will plot the contents of various arrays for you, as well snapshots and animations of the final results. You can use these to check whether your coding works as you expect.\n",
    "\n",
    "Note that it's well worth adding comments to your coding, so that, even if the code itself doesn't quite behave as you want, you may still be able to gain some marks by showing your intentions."
   ]
  },
  {
   "cell_type": "markdown",
   "metadata": {},
   "source": [
    "  "
   ]
  },
  {
   "cell_type": "markdown",
   "metadata": {},
   "source": [
    "## Import libraries"
   ]
  },
  {
   "cell_type": "code",
   "execution_count": null,
   "metadata": {},
   "outputs": [],
   "source": [
    "%matplotlib inline\n",
    "import numpy as np\n",
    "import matplotlib.pyplot as plt\n",
    "import matplotlib.animation as anim\n",
    "from IPython.display import HTML\n",
    "import sys"
   ]
  },
  {
   "cell_type": "markdown",
   "metadata": {},
   "source": [
    "----\n",
    "\n",
    "## Create domain model properties (i.e. speed of waves), and discretisation grid"
   ]
  },
  {
   "cell_type": "markdown",
   "metadata": {},
   "source": [
    "> ## –––– Task 1 ––––\n",
    ">\n",
    "> **– Create a model array named `c` for a domain of size 5km by 4km, with grid-spacing 10m.**\n",
    ">\n",
    "> **– Fill it with a wave-propagation speed that is 1.52km/s at the top-left corner, with a gradient such that the propagation speed decreases linearly in the direction heading along the diagonal, and reaching 820m/s at the bottom-right corner.**\n",
    ">\n",
    "> (10 marks)"
   ]
  },
  {
   "cell_type": "code",
   "execution_count": null,
   "metadata": {},
   "outputs": [],
   "source": [
    "# REPLACE THE QUESTION-MARKS BELOW to fulfil the first part of task 1...\n",
    "\n",
    "# domain dimensions\n",
    "length = ??\n",
    "depth = ??\n",
    "\n",
    "# grid-spacing\n",
    "dx = ??\n",
    "\n",
    "# now find the number of grid-points along each dimension\n",
    "nx = ??\n",
    "ny = ??\n",
    "\n",
    "# create the array for the domain's model properties\n",
    "c = ??\n",
    "\n",
    "\n",
    "# WRITE CODE BELOW to fill model properties into array c (second part of task 1)...\n",
    "\n",
    "\n",
    "\n",
    "\n",
    "\n",
    "# let's print some information about the model properties you coded above\n",
    "print('Domain is %d x %d grid-cells (%.1fm x %.1fm)' % (nx,nz,length,depth))\n",
    "print('Grid-spacing (dx) is %.3fm' % (dx))\n",
    "print('Range of speeds is %.2fm/s to %.2fm/s' % (c.min(),c.max()))\n",
    "print('Speed at top-left is %.2fm/s  Speed at bottom-right is %.2fm/s' % (c[0,0],c[-1,-1]))"
   ]
  },
  {
   "cell_type": "code",
   "execution_count": null,
   "metadata": {},
   "outputs": [],
   "source": [
    "def plot_model(c):\n",
    "    plt.figure(figsize=(10,6))\n",
    "    plt.imshow(c.T)  # plotting the velocity model (note transposed, to orient plot in way we expect)\n",
    "    plt.colorbar()\n",
    "    plt.xlabel('x gridpoints')\n",
    "    plt.ylabel('z gridpoints')\n",
    "    plt.title('Velocity model (m/s)')\n",
    "    plt.show()\n",
    "\n",
    "def plot_hslice(c,zgrid):\n",
    "    plt.figure(figsize=(7,6))\n",
    "    plt.plot(c[:,zgrid])\n",
    "    plt.ylabel('propagation speed / m/s')\n",
    "    plt.xlabel('x gridpoints')\n",
    "    plt.title('Horizontal slice through model at z-gridpoint=%d' % zgrid)\n",
    "    plt.show()"
   ]
  },
  {
   "cell_type": "code",
   "execution_count": null,
   "metadata": {},
   "outputs": [],
   "source": [
    "# Now let's plot the model properties across the domain, and a horizontal slice\n",
    "plot_model(c)\n",
    "plot_hslice(c,201)"
   ]
  },
  {
   "cell_type": "markdown",
   "metadata": {},
   "source": [
    "----\n",
    "## Modelling constraints\n",
    "#### CFL stability condition should be satisfied – the 'Courant number'.\n",
    "\n",
    "The dimensionless Courant number, $C$, gives a measure of how far a signal will travel between grid-points within one time-step.\n",
    "\n",
    "This 'crossing factor' is $c$.$\\delta t$/$\\delta x$ for speed $c$, and we want the maximum value of this within the whole domain to satisfy some constraint that depends upon the finite-difference stencil(s) in use when modelling.\n",
    "\n",
    "i.e. we want:$\\quad \\text{max}(c)$.$\\delta t/\\delta x <= C_{max}$, where $\\ C_{max}$ depends on the discretisations being used.\n",
    "\n",
    "We can turn this around to find the maximum time-step for our model and grid-spacing, given $C_{max}$ for our discretisations:\n",
    "\n",
    "$$\\delta t_{best} = \\frac{C_{max}\\ \\delta x}{\\text{max}(c)}$$\n",
    "\n",
    "A simple 2nd order spatial stencil, with 2nd-order time-stepping, requires the max crossing factor to (normally) be no more than ~sqrt(1/2)"
   ]
  },
  {
   "cell_type": "markdown",
   "metadata": {},
   "source": [
    "> ## –––– Task 2 ––––\n",
    ">\n",
    "> **– The duration for the simulation should cover at least 3 seconds, with time-steps of 4.7 milliseconds.**\n",
    "> \n",
    "> **– Work out the number of time-steps to cover that time (call it `nt`), and calculate the maximum Courant number within the domain.**\n",
    ">\n",
    "> **– Print information about the total simulation time and the maximum Courant number.**\n",
    ">\n",
    "> **– Is this time-step size a good choice for this system?** (Explain your answer by filling in comments at the end of the code cell.)\n",
    ">\n",
    "> (10 marks)"
   ]
  },
  {
   "cell_type": "code",
   "execution_count": null,
   "metadata": {},
   "outputs": [],
   "source": [
    "# REPLACE THE QUESTION-MARKS to fulfil the first part of task 2...\n",
    "\n",
    "time = ??\n",
    "dt = ??\n",
    "\n",
    "\n",
    "# WRITE MORE CODE to fulfil the next two parts of task 2...\n",
    "\n",
    "\n",
    "\n",
    "\n",
    "# WRITE COMMENTS BELOW to explain your answer to the final part of task 2...\n",
    "#\n",
    "#\n",
    "#\n",
    "#\n",
    "#\n",
    "#\n",
    "#"
   ]
  },
  {
   "cell_type": "markdown",
   "metadata": {},
   "source": [
    "----\n",
    "\n",
    "### Create source function (ramp up to 10Hz mono-frequency wave)"
   ]
  },
  {
   "cell_type": "markdown",
   "metadata": {},
   "source": [
    "> ## –––– Task 3 ––––\n",
    ">\n",
    "> **– Create variables that will allow you to choose the position of the point source during the time-stepping propagation loop (that is coded further down); place it half-way across the domain, and with depth 750m from the top of the domain**\n",
    ">\n",
    "> **– Code a loop in the `create_source` function that creates & fills in an array to contain a sine wave with frequency `freq`, but ramping up the sine wave amplitude from zero to `maxampl` (linearly) over the first 100 steps.**\n",
    ">\n",
    "> **– Return that array so the subsequent code cell that calls `create_source` gets its `src` array containing the source you built above.**  \n",
    ">\n",
    "> (6 marks)"
   ]
  },
  {
   "cell_type": "code",
   "execution_count": null,
   "metadata": {},
   "outputs": [],
   "source": [
    "# CREATE THE VARIABLES for the first part of task 3...\n",
    "\n",
    "\n",
    "\n",
    "\n",
    "# function to create a source that ramps up to mono-frequency sine wave\n",
    "# (frequency is 'freq', time-step length is 'dt', number of steps is 'ns')\n",
    "def create_source(freq,dt,ns,maxampl):\n",
    "\n",
    "    # WRITE CODE JUST BELOW to create and return the source array to complete the rest of task 3...\n",
    "\n",
    "\n"
   ]
  },
  {
   "cell_type": "code",
   "execution_count": null,
   "metadata": {},
   "outputs": [],
   "source": [
    "ns = nt  # this source keeps going to the end of time\n",
    "# call to function below should create a ramped 10Hz sine wave with unit amplitude and 'ns' time steps\n",
    "src = create_source(10.0,dt,ns,1.0)"
   ]
  },
  {
   "cell_type": "code",
   "execution_count": null,
   "metadata": {},
   "outputs": [],
   "source": [
    "def plot_source(src):\n",
    "    plt.figure(figsize=(10,6))\n",
    "    plt.plot(src)  # plot source function\n",
    "    plt.xlabel('timesteps')\n",
    "    plt.ylabel('amplitude')\n",
    "    plt.title('Source Function')\n",
    "    plt.show()"
   ]
  },
  {
   "cell_type": "code",
   "execution_count": null,
   "metadata": {},
   "outputs": [],
   "source": [
    "# let's check that your source wavelet looks as you expect by plotting it...\n",
    "plot_source(src)"
   ]
  },
  {
   "cell_type": "markdown",
   "metadata": {},
   "source": [
    "### Check that the maximum frequency in the source wavelet can propagate reliably"
   ]
  },
  {
   "cell_type": "markdown",
   "metadata": {},
   "source": [
    "For a simple second-order finite-difference, the minimum wavelength of a signal that we can propagate reliably over a reasonable distance is about 10 grid-points."
   ]
  },
  {
   "cell_type": "markdown",
   "metadata": {},
   "source": [
    "> ## –––– Task 4 ––––\n",
    ">\n",
    "> **– Calculate and show the maximum reliable propagation frequency for this model.**\n",
    ">\n",
    "> **– Briefly explain, then, what the resulting amplitude spectrum plot tells you.**  \n",
    "(Write it as a comment where indicated in the code cell further down that calls function `plot_spectrum`.)\n",
    ">\n",
    "> (4 marks)"
   ]
  },
  {
   "cell_type": "code",
   "execution_count": null,
   "metadata": {},
   "outputs": [],
   "source": [
    "# WRITE CODE BELOW to complete the first part of task 4...\n",
    "\n",
    "\n"
   ]
  },
  {
   "cell_type": "markdown",
   "metadata": {},
   "source": [
    "#### Want to avoid causing too much dispersion by keeping maximum significant frequency within this limit..."
   ]
  },
  {
   "cell_type": "code",
   "execution_count": null,
   "metadata": {
    "scrolled": false
   },
   "outputs": [],
   "source": [
    "def plot_spectrum(src,dt,nt,ns):\n",
    "    plt.figure(figsize=(10,6))\n",
    "    plt.magnitude_spectrum(np.append(src,np.zeros(nt-ns)), Fs=1/dt)  # note padding to nt points\n",
    "    plt.title('Amplitude Spectrum')\n",
    "    plt.xlim(0,35)\n",
    "    plt.show()"
   ]
  },
  {
   "cell_type": "code",
   "execution_count": null,
   "metadata": {},
   "outputs": [],
   "source": [
    "# checking the amplitude spectrum of the source wavelet\n",
    "plot_spectrum(src,dt,nt,ns)\n",
    "\n",
    "\n",
    "# GIVE YOUR ANSWER IN COMMENTS BELOW for the final part of task 4:\n",
    "#\n",
    "#\n",
    "#\n",
    "#\n",
    "#"
   ]
  },
  {
   "cell_type": "markdown",
   "metadata": {},
   "source": [
    "----\n",
    "## Create model for absorbing boundary layers"
   ]
  },
  {
   "cell_type": "markdown",
   "metadata": {},
   "source": [
    "> ## –––– Task 5 ––––\n",
    ">\n",
    "> **– Write code to fill in array `a` so that it has a layer of width 70 grid-points all the way around the domain so that it has a quadratic increase towards value one, which it should reach once it hits the edges of the domain.**\n",
    ">\n",
    "> (10 marks)"
   ]
  },
  {
   "cell_type": "code",
   "execution_count": null,
   "metadata": {},
   "outputs": [],
   "source": [
    "a = np.zeros((nx,nz))  # initialise absorbing layer array with zeros\n",
    "\n",
    "\n",
    "# WRITE CODE BELOW TO FILL ARRAY 'a' ready for quadratic-increase absorbing layer (to fulfil task 5)...\n",
    "\n",
    "\n",
    "\n",
    "\n",
    "\n"
   ]
  },
  {
   "cell_type": "markdown",
   "metadata": {},
   "source": [
    "#### Show the absorption model"
   ]
  },
  {
   "cell_type": "code",
   "execution_count": null,
   "metadata": {},
   "outputs": [],
   "source": [
    "# various plotting functions that get called below so you can check your absorption model...\n",
    "\n",
    "def plot_absorbing(a):\n",
    "    plt.figure(figsize=(10,6))\n",
    "    plt.title('Absorption')\n",
    "\n",
    "    plt.imshow(a.T) # plotting the absorption as a 2d colour plot (note transposed, to orient plot in way we expect)\n",
    "    plt.colorbar()\n",
    "    plt.xlabel('x gridpoints')\n",
    "    plt.ylabel('z gridpoints')\n",
    "\n",
    "    plt.show()\n",
    "\n",
    "\n",
    "def plot_absorb_horiz(a,zgrid):\n",
    "    plt.figure(figsize=(8,4))\n",
    "    plt.title('Horizontal x-section at z-gridpoint=%d' % zgrid)\n",
    "\n",
    "    plt.plot(a[:,zgrid])  # horizontal cross-section through absorption, to show const/linear/quadratic nature\n",
    "    plt.xlabel('x gridpoints')\n",
    "    plt.ylabel('absorption coefficient')\n",
    "\n",
    "    plt.show()\n",
    "\n",
    "\n",
    "def plot_absorb_vert(a,xgrid):\n",
    "    plt.figure(figsize=(8,4))\n",
    "    plt.title('Vertical x-section at x-gridpoint=%d' % xgrid)\n",
    "\n",
    "    plt.plot(a[xgrid,:])  # vertical cross-section through absorption, to show const/linear/quadratic nature\n",
    "    plt.xlabel('z gridpoints')\n",
    "    plt.ylabel('absorption coefficient')\n",
    "\n",
    "    plt.show()"
   ]
  },
  {
   "cell_type": "code",
   "execution_count": null,
   "metadata": {},
   "outputs": [],
   "source": [
    "plot_absorbing(a)\n",
    "plot_absorb_horiz(a,200)\n",
    "plot_absorb_vert(a,200)"
   ]
  },
  {
   "cell_type": "code",
   "execution_count": null,
   "metadata": {},
   "outputs": [],
   "source": [
    "# scales the absorbing factors in array a by the appropriate amounts at each point in space...\n",
    "\n",
    "#absfact = 0.0  # to switch off absorbing layer\n",
    "#absfact = 0.1  # without predictive boundary\n",
    "absfact = 0.05  # with predictive boundary\n",
    "\n",
    "a[:,:] = a[:,:]*c[:,:]*(dt/dx)*absfact"
   ]
  },
  {
   "cell_type": "markdown",
   "metadata": {},
   "source": [
    "## Predictive boundary condition"
   ]
  },
  {
   "cell_type": "code",
   "execution_count": null,
   "metadata": {},
   "outputs": [],
   "source": [
    "# set up crossing-factor arrays for use at edges with 'predictive' boundary condition\n",
    "C_zmin = c[:,0]*dt/dx   # along top edge\n",
    "C_zmax = c[:,-1]*dt/dx  # along bottom edge\n",
    "C_xmin = c[0,:]*dt/dx   # along left edge\n",
    "C_xmax = c[-1,:]*dt/dx  # along right edge\n",
    "\n",
    "# for use without absorbing layers:\n",
    "#predfact_zmin = 1.0\n",
    "#predfact_zmax = 1.0\n",
    "#predfact_xmin = 1.0\n",
    "#predfact_xmax = 1.0\n",
    "\n",
    "# for use with absorbing layers:\n",
    "predfact_zmin = 0.98\n",
    "predfact_zmax = 0.98\n",
    "predfact_xmin = 0.98\n",
    "predfact_xmax = 0.98\n",
    "\n",
    "# to switch off predictive boundaries:\n",
    "#predfact_zmin = 0.0\n",
    "#predfact_zmax = 0.0\n",
    "#predfact_xmin = 0.0\n",
    "#predfact_zmax = 0.0\n",
    "\n",
    "\n",
    "# some extra things that might be useful during task 8...\n",
    "C_zmid = c[:,149]*dt/dx\n",
    "predfact_zmid = 1.0\n"
   ]
  },
  {
   "cell_type": "markdown",
   "metadata": {},
   "source": [
    "----\n",
    "## Final preparations – line of detectors & time-stepping arrays"
   ]
  },
  {
   "cell_type": "markdown",
   "metadata": {},
   "source": [
    "> ## –––– Task 6 ––––\n",
    ">\n",
    "> **– Create an array that can be used to simulate a line of detectors that goes all the way across the domain, that will be for recording the wavefield over time that crosses each grid-point in that line.**\n",
    ">\n",
    "> **– Create a variable that allows choice for the depth for this line of detectors during the `propagate` function (which is in a code cell later down the notebook), giving it a depth that corresponds to 3km from the top of the domain.**\n",
    ">\n",
    "> **– Complete code to create the three arrays to be used for time-stepping during the `propagate` function.**\n",
    ">\n",
    "> **– Add comments giving brief explanation what each array will be used for during the simulation.**\n",
    ">\n",
    "> (5 marks)"
   ]
  },
  {
   "cell_type": "code",
   "execution_count": null,
   "metadata": {},
   "outputs": [],
   "source": [
    "# WRITE CODE BELOW FOR A LINE OF DETECTORS (for first two parts of task 6)...\n",
    "\n",
    "\n",
    "\n",
    "\n",
    "# REPLACE QUESTION-MARKS BELOW TO CREATE THREE ARRAYS HERE for rest of task 6\n",
    "# ALSO complete a brief comment for each explaining what it is for...\n",
    "\n",
    "u_cur = ??   # this is... what??\n",
    "\n",
    "u_prv = ??   # this is... what??\n",
    "\n",
    "u_nxt = ??   # this is... what??\n"
   ]
  },
  {
   "cell_type": "code",
   "execution_count": null,
   "metadata": {},
   "outputs": [],
   "source": [
    "# prepares an array to store wavefield snapshots for plotting later\n",
    "snapshot_gap = 12 # set sampling rate used to store wavefield (every 12 timesteps)\n",
    "wavefield = np.zeros((int(nt/snapshot_gap), nx, nz)) # array to store wavefields every 12 timesteps\n",
    "print('Storing %d wavefields (every %dth out of %d)' % (wavefield.shape[0],snapshot_gap,nt))"
   ]
  },
  {
   "cell_type": "markdown",
   "metadata": {},
   "source": [
    "----\n",
    "# Simulation"
   ]
  },
  {
   "cell_type": "markdown",
   "metadata": {},
   "source": [
    "> ## –––– Task 7 ––––\n",
    ">\n",
    "> **– Fill in the code for the `propagate` function below, using the three arrays you created earlier, so that it propagates the wavefield from the source through the domain during the time loop.**\n",
    ">\n",
    "> **– In this coding, during the calculation of the new wavefield for a time-step, include the implementation of absorbing layers, using array `a` (which you populated in task 5).**\n",
    ">\n",
    "> **– Also include the coding for the predictive boundaries, using the factors in arrays `C_xmin`, `C_xmax`, `C_zmin` & `C_zmax` (see the relevant coding cell earlier in this notebook).**\n",
    ">\n",
    "> **– Also include code to fill in the wavefield values along the line of receivers that you set up in task 6.**  \n",
    ">\n",
    "> (22 marks)"
   ]
  },
  {
   "cell_type": "markdown",
   "metadata": {},
   "source": [
    "> ## –––– Task 8 ––––\n",
    ">\n",
    "> **– Think of a way to simulate an 'obstruction' across the whole width of the domain at depth 1.5km, such that the wavefield cannot cross it, meaning the wavefield is constrained within the top ~1.5km of the domain. Add code into the time-stepping loop to implement that.**  \n",
    "(Note that it's ok for the wavefield to 'bounce' off this obstruction -you don't need to try to add an absorbing layer to make the wavefield fade away before it reaches the obstruction.)\n",
    ">\n",
    "> **– But leave two 'holes' in this obstruction so that the wave can pass through them. Make the holes each have width 7 grid-points, and position the two holes so they are either side of a vertical line down the middle of the domain, and such that there are 71 grid-points between the holes (i.e. so there is still 'obstruction' for 71 grid-points along the line between the two holes).**\n",
    ">\n",
    "> **– After checking above all works as you would expect, include more code to implement a predictive boundary layer just above the obstruction, in order to reduce the reflection of the wavefield that 'bounces' off the obstruction.**  \n",
    "(You can make use of `C_zmid` and `predfact_zmid` that were defined in the relevant coding cell earlier in this notebook.)\n",
    ">\n",
    "> (18 marks)"
   ]
  },
  {
   "cell_type": "code",
   "execution_count": null,
   "metadata": {},
   "outputs": [],
   "source": [
    "# a useful variable – shorthand for something that appears in expressions below\n",
    "dtdx2 = (dt*dt)/(dx*dx)\n",
    "\n",
    "\n",
    "def propagate():\n",
    "\n",
    "    # ensure wavefields start off zero\n",
    "    u_cur[:,:] = 0.0\n",
    "    u_prv[:,:] = 0.0\n",
    "\n",
    "    # begin time-stepping loop...\n",
    "\n",
    "    for i in range(nt):\n",
    "\n",
    "        if (i+1)%10==0:  # show progress every 10 steps\n",
    "            sys.stdout.write('Done step %d (of %d)\\r' % (i+1,nt))\n",
    "\n",
    "\n",
    "        # WRITE CODE BELOW TO COMPLETE TASKS 7 and 8...\n",
    "\n",
    "\n",
    "        \n",
    "        \n",
    "        \n",
    "\n",
    "        if (i+1)%snapshot_gap == 0: # store the current wavefield u on every 12th step\n",
    "            wavefield[int((i+1)/snapshot_gap-1)] = u_cur[:,:]\n",
    "\n",
    "    print('Finished %d time-steps' % (nt))"
   ]
  },
  {
   "cell_type": "code",
   "execution_count": null,
   "metadata": {},
   "outputs": [],
   "source": [
    "propagate()"
   ]
  },
  {
   "cell_type": "markdown",
   "metadata": {},
   "source": [
    "## Plot wavefield at different times"
   ]
  },
  {
   "cell_type": "code",
   "execution_count": null,
   "metadata": {},
   "outputs": [],
   "source": [
    "def plot_snapshot(plot_time,bounds):\n",
    "    plt.figure(figsize=(10,7))\n",
    "    plt.imshow(wavefield[int(plot_time/(dt*snapshot_gap))].T,   # note the wavefield was transposed\n",
    "               vmin=-bounds, vmax=bounds, cmap='RdBu', interpolation='bilinear')\n",
    "    plt.title('Wavefield at about %.2fs' % (plot_time))\n",
    "    plt.colorbar()\n",
    "    plt.xlabel('x gridpoints')\n",
    "    plt.ylabel('z gridpoints')\n",
    "    plt.show()"
   ]
  },
  {
   "cell_type": "code",
   "execution_count": null,
   "metadata": {},
   "outputs": [],
   "source": [
    "plot_snapshot(1.0,0.06)\n",
    "plot_snapshot(2.0,0.06)"
   ]
  },
  {
   "cell_type": "markdown",
   "metadata": {},
   "source": [
    "## Plot data at receivers"
   ]
  },
  {
   "cell_type": "code",
   "execution_count": null,
   "metadata": {
    "scrolled": false
   },
   "outputs": [],
   "source": [
    "def plot_at_receivers(r,bounds):\n",
    "    plt.figure(figsize=(10,7))\n",
    "    plt.imshow(r.T, cmap='RdBu', interpolation='bilinear', aspect='auto', \n",
    "               vmin=-bounds, vmax=bounds,   # set bounds for colourmap data\n",
    "               extent=(0,nx,time,0))  # set bounds for axes\n",
    "    plt.title('Receiver Data')\n",
    "    plt.colorbar()\n",
    "    plt.xlabel('Receiver number')\n",
    "    plt.ylabel('Time / s')\n",
    "    plt.show()"
   ]
  },
  {
   "cell_type": "code",
   "execution_count": null,
   "metadata": {},
   "outputs": [],
   "source": [
    "plot_at_receivers(r,0.04)"
   ]
  },
  {
   "cell_type": "code",
   "execution_count": null,
   "metadata": {},
   "outputs": [],
   "source": [
    "def plot_rms(data):\n",
    "    plt.figure(figsize=(10,6))\n",
    "    plt.plot(data)\n",
    "    plt.xlabel('receiver number')\n",
    "    plt.ylabel('amplitude')\n",
    "    plt.title('RMS at receivers')\n",
    "    plt.show()"
   ]
  },
  {
   "cell_type": "markdown",
   "metadata": {},
   "source": [
    "> ## –––– Task 9 ––––\n",
    ">\n",
    "> **– Write code to calculate the RMS (root-mean-squared) value over time at each receiver grid-point and put it into an array.**\n",
    ">\n",
    ">**– Call the `plot_rms` function to plot the RMS values.**\n",
    ">\n",
    "> **The RMS value for a receiver corresponds to the overall intensity of the wavefield arriving at that receiver.  \n",
    "> – Describe the pattern you see shown in the plot below.  \n",
    "> – Does it remind you of a well-known optics experiment/demonstration?  \n",
    "> – But what do you think is slightly different about the intensity plot shown here, and why?**\n",
    ">\n",
    "> (15 marks)"
   ]
  },
  {
   "cell_type": "code",
   "execution_count": null,
   "metadata": {},
   "outputs": [],
   "source": [
    "# WRITE CODE BELOW to find RMS at receivers for the first two parts of task 9...\n",
    "\n",
    "\n",
    "\n",
    "\n",
    "\n",
    "# WRITE COMMENTS BELOW to answer the final part of task 9...\n",
    "#\n",
    "#\n",
    "#\n",
    "#\n",
    "#\n",
    "#"
   ]
  },
  {
   "cell_type": "markdown",
   "metadata": {},
   "source": [
    "## Make a movie! "
   ]
  },
  {
   "cell_type": "markdown",
   "metadata": {},
   "source": [
    "(Partly for fun – but also so that, as you develop the code during tasks 7, 8 & 9 above, you can visualise what is happening to the wavefield across time, which should help you to check that your code is behaving as you would expect...)"
   ]
  },
  {
   "cell_type": "code",
   "execution_count": null,
   "metadata": {},
   "outputs": [],
   "source": [
    "def create_animation(bounds):\n",
    "    fig = plt.figure(figsize=(10,8))\n",
    "\n",
    "    plt.title('Wavefield')\n",
    "    plt.xlabel('x gridpoints')\n",
    "    plt.ylabel('z gridpoints')\n",
    "\n",
    "    n = wavefield.shape[0]\n",
    "    imgs = []\n",
    "    for i in range(n):\n",
    "        if i%20==0:  # show progress every 20 frames\n",
    "            sys.stdout.write('Done %d of %d\\r' % (i+1,n))\n",
    "        img = plt.imshow(wavefield[i].T, vmin=-bounds, vmax=bounds, cmap='RdBu',\n",
    "                         animated=True, interpolation='bilinear')\n",
    "        imgs.append([img])\n",
    "\n",
    "    print('Finished plots for frames, building animation...')\n",
    "\n",
    "    ani = anim.ArtistAnimation(fig, imgs, interval=50, blit=True)\n",
    "\n",
    "    plt.close(fig)  # prevent final frame plot from showing up inline below\n",
    "\n",
    "    return ani"
   ]
  },
  {
   "cell_type": "code",
   "execution_count": null,
   "metadata": {},
   "outputs": [],
   "source": [
    "ani = create_animation(0.05)\n",
    "print('Preparing HTML (takes a little while...)')\n",
    "HTML(ani.to_jshtml())"
   ]
  },
  {
   "cell_type": "code",
   "execution_count": null,
   "metadata": {},
   "outputs": [],
   "source": []
  }
 ],
 "metadata": {
  "kernelspec": {
   "display_name": "Python 3",
   "language": "python",
   "name": "python3"
  },
  "language_info": {
   "codemirror_mode": {
    "name": "ipython",
    "version": 3
   },
   "file_extension": ".py",
   "mimetype": "text/x-python",
   "name": "python",
   "nbconvert_exporter": "python",
   "pygments_lexer": "ipython3",
   "version": "3.5.6"
  }
 },
 "nbformat": 4,
 "nbformat_minor": 2
}
